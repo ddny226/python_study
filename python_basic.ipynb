{
 "cells": [
  {
   "cell_type": "markdown",
   "id": "11ef2b49",
   "metadata": {},
   "source": [
    "# Python을 활용한 계산 및 변수와 자료형\n",
    "\n",
    "# 사칙연산\n",
    "python에서의 사칙 연산 기호는 더하기(+), 빼기(-), 곱하기(*), 나누기(/), 몫(//), 나머지(%), 거듭제곱(**)로 구성되어 있음 (정수일 경우 int , 실수일 경우 float로 반환)"
   ]
  },
  {
   "cell_type": "code",
   "execution_count": 5,
   "id": "439b24d0",
   "metadata": {},
   "outputs": [
    {
     "data": {
      "text/plain": [
       "6.25"
      ]
     },
     "execution_count": 5,
     "metadata": {},
     "output_type": "execute_result"
    }
   ],
   "source": [
    "2.5 **2"
   ]
  },
  {
   "cell_type": "markdown",
   "id": "7dd89552",
   "metadata": {},
   "source": [
    "# 과학적 표기법\n",
    "큰 수나 작은 수를 활용할 경우 기존 거듭제곱을 이용한 방법 외에 en연산자를 이용하여 표기할 수 있음.\n",
    "양수일 경우 1e15를 입력할 경우 숫자, 1e16부터는 과학적 표기법으로 표기함\n",
    "음수의 경우 1e-4를 입력할 경우 숫자, 1e-5부터는 과학적 표기법으로 표기함"
   ]
  },
  {
   "cell_type": "code",
   "execution_count": 6,
   "id": "7687f5c8",
   "metadata": {},
   "outputs": [
    {
     "data": {
      "text/plain": [
       "1000000000000000.0"
      ]
     },
     "execution_count": 6,
     "metadata": {},
     "output_type": "execute_result"
    }
   ],
   "source": [
    "1e15"
   ]
  },
  {
   "cell_type": "code",
   "execution_count": 7,
   "id": "b3eafa78",
   "metadata": {},
   "outputs": [
    {
     "data": {
      "text/plain": [
       "1e+16"
      ]
     },
     "execution_count": 7,
     "metadata": {},
     "output_type": "execute_result"
    }
   ],
   "source": [
    "1e16"
   ]
  },
  {
   "cell_type": "code",
   "execution_count": 8,
   "id": "132dae35",
   "metadata": {},
   "outputs": [
    {
     "data": {
      "text/plain": [
       "0.0001"
      ]
     },
     "execution_count": 8,
     "metadata": {},
     "output_type": "execute_result"
    }
   ],
   "source": [
    "1e-4"
   ]
  },
  {
   "cell_type": "code",
   "execution_count": 9,
   "id": "4f39f563",
   "metadata": {},
   "outputs": [
    {
     "data": {
      "text/plain": [
       "1e-05"
      ]
     },
     "execution_count": 9,
     "metadata": {},
     "output_type": "execute_result"
    }
   ],
   "source": [
    "1e-5"
   ]
  },
  {
   "cell_type": "markdown",
   "id": "5e03180c",
   "metadata": {},
   "source": [
    "# 진수 표현 및 변환\n",
    "숫자를 진수로 출력할 때 bin,oct,hex를 이용함"
   ]
  },
  {
   "cell_type": "code",
   "execution_count": 10,
   "id": "defff1f6",
   "metadata": {},
   "outputs": [
    {
     "data": {
      "text/plain": [
       "17"
      ]
     },
     "execution_count": 10,
     "metadata": {},
     "output_type": "execute_result"
    }
   ],
   "source": [
    "0b10001"
   ]
  },
  {
   "cell_type": "code",
   "execution_count": 11,
   "id": "2ec1c992",
   "metadata": {},
   "outputs": [
    {
     "data": {
      "text/plain": [
       "17"
      ]
     },
     "execution_count": 11,
     "metadata": {},
     "output_type": "execute_result"
    }
   ],
   "source": [
    "0o21"
   ]
  },
  {
   "cell_type": "code",
   "execution_count": 12,
   "id": "1c807e12",
   "metadata": {},
   "outputs": [
    {
     "data": {
      "text/plain": [
       "17"
      ]
     },
     "execution_count": 12,
     "metadata": {},
     "output_type": "execute_result"
    }
   ],
   "source": [
    "0x11"
   ]
  },
  {
   "cell_type": "code",
   "execution_count": 13,
   "id": "1da66301",
   "metadata": {},
   "outputs": [
    {
     "data": {
      "text/plain": [
       "'0b10100'"
      ]
     },
     "execution_count": 13,
     "metadata": {},
     "output_type": "execute_result"
    }
   ],
   "source": [
    "bin(20)"
   ]
  },
  {
   "cell_type": "code",
   "execution_count": 14,
   "id": "2d3233a7",
   "metadata": {},
   "outputs": [
    {
     "data": {
      "text/plain": [
       "'0o24'"
      ]
     },
     "execution_count": 14,
     "metadata": {},
     "output_type": "execute_result"
    }
   ],
   "source": [
    "oct(20)"
   ]
  },
  {
   "cell_type": "code",
   "execution_count": 15,
   "id": "beb876ad",
   "metadata": {},
   "outputs": [
    {
     "data": {
      "text/plain": [
       "'0x14'"
      ]
     },
     "execution_count": 15,
     "metadata": {},
     "output_type": "execute_result"
    }
   ],
   "source": [
    "hex(20)"
   ]
  },
  {
   "cell_type": "markdown",
   "id": "9f5851de",
   "metadata": {},
   "source": [
    "# 논리 연산\n",
    "'boolean연산' 이라고도 하며 데이터 타입은 'bool'이다\n",
    "논리 곱(and) , 논리 합(or), 논리 부정(not\n",
    "\n",
    "# 비교 연산\n",
    "숫자를 비교하는 연산 결과 bool데이터로 출력\n",
    ">,<,>=,<=,==,!="
   ]
  },
  {
   "cell_type": "code",
   "execution_count": 18,
   "id": "51c7503e",
   "metadata": {},
   "outputs": [
    {
     "name": "stdout",
     "output_type": "stream",
     "text": [
      "False\n"
     ]
    }
   ],
   "source": [
    "print(True and False)"
   ]
  },
  {
   "cell_type": "code",
   "execution_count": 19,
   "id": "e24d414b",
   "metadata": {},
   "outputs": [
    {
     "data": {
      "text/plain": [
       "bool"
      ]
     },
     "execution_count": 19,
     "metadata": {},
     "output_type": "execute_result"
    }
   ],
   "source": [
    "type(True)"
   ]
  },
  {
   "cell_type": "markdown",
   "id": "4c525fdc",
   "metadata": {},
   "source": [
    "# 실습 테스트"
   ]
  },
  {
   "cell_type": "code",
   "execution_count": 20,
   "id": "cab9529a",
   "metadata": {},
   "outputs": [
    {
     "data": {
      "text/plain": [
       "8"
      ]
     },
     "execution_count": 20,
     "metadata": {},
     "output_type": "execute_result"
    }
   ],
   "source": [
    "# 2의 세제곱\n",
    "2 ** 3"
   ]
  },
  {
   "cell_type": "code",
   "execution_count": 21,
   "id": "1ff45232",
   "metadata": {},
   "outputs": [
    {
     "data": {
      "text/plain": [
       "1.4142135623730951"
      ]
     },
     "execution_count": 21,
     "metadata": {},
     "output_type": "execute_result"
    }
   ],
   "source": [
    "# 2의 루트2제곱\n",
    "2 ** (1/2)"
   ]
  },
  {
   "cell_type": "code",
   "execution_count": 29,
   "id": "bf04dadc",
   "metadata": {},
   "outputs": [
    {
     "data": {
      "text/plain": [
       "'0b10001'"
      ]
     },
     "execution_count": 29,
     "metadata": {},
     "output_type": "execute_result"
    }
   ],
   "source": [
    "# 10진수 17을 2진수,8진수,16진수로 표현해보자\n",
    "bin(17) "
   ]
  },
  {
   "cell_type": "code",
   "execution_count": 30,
   "id": "8fac18a7",
   "metadata": {},
   "outputs": [
    {
     "data": {
      "text/plain": [
       "'0o21'"
      ]
     },
     "execution_count": 30,
     "metadata": {},
     "output_type": "execute_result"
    }
   ],
   "source": [
    "oct(17) "
   ]
  },
  {
   "cell_type": "code",
   "execution_count": 31,
   "id": "955706d0",
   "metadata": {},
   "outputs": [
    {
     "data": {
      "text/plain": [
       "'0x11'"
      ]
     },
     "execution_count": 31,
     "metadata": {},
     "output_type": "execute_result"
    }
   ],
   "source": [
    "hex(17)"
   ]
  },
  {
   "cell_type": "markdown",
   "id": "66c80d49",
   "metadata": {},
   "source": [
    "# 변수\n",
    "자료형의 값을 저장하는 공간\n",
    "'변수명 = data'의 형태로 활용됨 / 일일이 연산에 활용할 숫자를 입력하지 않아도 됨\n",
    "변수 생성시 주의 사항 !\n",
    "- 문자, 숫자, 밑줄기호(_)들만 이용하여 사용 가능\n",
    "- 숫자로 시작하는 변수명은 생성 불가\n",
    "- 변수는 대소문자 구분함 서로 다른 변수로 인식된다\n",
    "- 밑줄 기호 외에 사용불가\n",
    "- 파이썬에서 사용되는 예약어의 경우 변수명으로 이용할 수 없음\n",
    "- 변수명에 공백 포함할 수 없음\n",
    "\n",
    "1. 문자열 자료형\n",
    "\n",
    "시작과 끝에 \"또는 '를 입력한다"
   ]
  },
  {
   "cell_type": "code",
   "execution_count": 32,
   "id": "7513d002",
   "metadata": {},
   "outputs": [
    {
     "name": "stdout",
     "output_type": "stream",
     "text": [
      "This is a \"match-up\" training course\n",
      "This is a 'match-up' training course\n"
     ]
    }
   ],
   "source": [
    "str1 = 'This is a \"match-up\" training course'\n",
    "str2 = \"This is a 'match-up' training course\"\n",
    "print(str1)\n",
    "print(str2)"
   ]
  },
  {
   "cell_type": "code",
   "execution_count": 33,
   "id": "b6af4b85",
   "metadata": {},
   "outputs": [
    {
     "name": "stdout",
     "output_type": "stream",
     "text": [
      "이렇게\n",
      "세 개의 따옴표 사용함\n",
      "큰 따옴표도 마찬가지\n"
     ]
    }
   ],
   "source": [
    "#작성자가 입력하고자 한 그대로 입력하거나 줄을 바꿔서 문자열을 입력하고 싶은 경우 \n",
    "#삼중 따옴표를 이용한다\n",
    "long = '''이렇게\n",
    "세 개의 따옴표 사용함\n",
    "큰 따옴표도 마찬가지'''\n",
    "print(long)"
   ]
  },
  {
   "cell_type": "markdown",
   "id": "6d3a1384",
   "metadata": {},
   "source": [
    "문자열은 더하기와 곱하기를 사용 할 수 있음\n",
    "더하기는 문자열을 연결하고 곱하기는 문자열을 반복함"
   ]
  },
  {
   "cell_type": "code",
   "execution_count": 38,
   "id": "0c729eb4",
   "metadata": {},
   "outputs": [
    {
     "name": "stdout",
     "output_type": "stream",
     "text": [
      "hi meow \n",
      "hi meow hi meow hi meow hi meow hi meow \n"
     ]
    }
   ],
   "source": [
    "a = \"hi \"\n",
    "b = \"meow \"\n",
    "c = a+b\n",
    "print(c)\n",
    "print(c*5)"
   ]
  }
 ],
 "metadata": {
  "kernelspec": {
   "display_name": "Python 3 (ipykernel)",
   "language": "python",
   "name": "python3"
  },
  "language_info": {
   "codemirror_mode": {
    "name": "ipython",
    "version": 3
   },
   "file_extension": ".py",
   "mimetype": "text/x-python",
   "name": "python",
   "nbconvert_exporter": "python",
   "pygments_lexer": "ipython3",
   "version": "3.10.9"
  }
 },
 "nbformat": 4,
 "nbformat_minor": 5
}
